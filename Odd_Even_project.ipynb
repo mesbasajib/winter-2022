{
  "nbformat": 4,
  "nbformat_minor": 0,
  "metadata": {
    "colab": {
      "name": "Odd Even project.ipynb",
      "provenance": [],
      "collapsed_sections": [],
      "authorship_tag": "ABX9TyPxd8nofb6s+GOH31yG1xva",
      "include_colab_link": true
    },
    "kernelspec": {
      "name": "python3",
      "display_name": "Python 3"
    },
    "language_info": {
      "name": "python"
    }
  },
  "cells": [
    {
      "cell_type": "markdown",
      "metadata": {
        "id": "view-in-github",
        "colab_type": "text"
      },
      "source": [
        "<a href=\"https://colab.research.google.com/github/mesbasajib/winter-2022/blob/main/Odd_Even_project.ipynb\" target=\"_parent\"><img src=\"https://colab.research.google.com/assets/colab-badge.svg\" alt=\"Open In Colab\"/></a>"
      ]
    },
    {
      "cell_type": "markdown",
      "source": [
        "# Even or Odd Numbers"
      ],
      "metadata": {
        "id": "ThhxqYcMmktO"
      }
    },
    {
      "cell_type": "code",
      "source": [
        "# Assign user input to the num1 variable\n",
        "num1 = int(input(\"Enter a number: \"))\n",
        "\n",
        "# used if elss statment to find out even and odd number \n",
        "# assigned variable num1\n",
        "if num1 % 2 == 0:\n",
        "    print(\"This is an even number.\")\n",
        "\n",
        "# the number is a multiple of 4, print out a different message\n",
        "    if num1 % 4 == 0:\n",
        "      print (\"The number is also multiple of 4\")\n",
        "else:\n",
        "    print(\"This is an odd number.\")\n"
      ],
      "metadata": {
        "colab": {
          "base_uri": "https://localhost:8080/"
        },
        "id": "uGA9QYGdWBOE",
        "outputId": "477d1454-c420-4c1d-d296-fe48bdd22ad8"
      },
      "execution_count": 3,
      "outputs": [
        {
          "output_type": "stream",
          "name": "stdout",
          "text": [
            "Enter a number: 24\n",
            "This is an even number.\n",
            "The number is also multiple of 4\n"
          ]
        }
      ]
    },
    {
      "cell_type": "code",
      "source": [
        "# user for two numbers: one number to check (call it num) and one number to divide by (check)\n",
        "# Assign user input to the num variable\n",
        "num = int(input(\"please enter a number: \"))\n",
        "\n",
        "# Assign user input to the check variable\n",
        "check = int(input(\"please enter another number: \"))\n",
        "\n",
        "# used if elss statment to find out dividable number \n",
        "if num % check == 0:\n",
        "  print(f'{num} is dividable by {check} ' )\n",
        "else:\n",
        "  print(f'{num} is not dividable by {check} ')"
      ],
      "metadata": {
        "colab": {
          "base_uri": "https://localhost:8080/"
        },
        "id": "2RMrvkb4WNTD",
        "outputId": "f3ed1c47-5331-4767-fffc-9e4fc709f03f"
      },
      "execution_count": 4,
      "outputs": [
        {
          "output_type": "stream",
          "name": "stdout",
          "text": [
            "please enter a number: 24\n",
            "please enter another number: 6\n",
            "24 is dividable by 6 \n"
          ]
        }
      ]
    },
    {
      "cell_type": "code",
      "source": [
        "# Write a custom function for finding whether the number is even or odd\n",
        "# num is a global variable\n",
        "num = int(input(\"Enter a number: \"))\n",
        "#created a function called main and passed num as a parameter\n",
        "def main(num):\n",
        "\n",
        "# Used if-else statement to find out even and odd number\n",
        "  if num % 2 == 0:\n",
        "    print(\"This is an even number.\")\n",
        "  else:\n",
        "    print(\"This is an odd number.\")\n",
        "\n",
        "# closing the function\n",
        "main(num) "
      ],
      "metadata": {
        "colab": {
          "base_uri": "https://localhost:8080/"
        },
        "id": "QHrAZ-XHWRUa",
        "outputId": "a50941ad-67d8-466b-a810-792e32dd13f5"
      },
      "execution_count": 6,
      "outputs": [
        {
          "output_type": "stream",
          "name": "stdout",
          "text": [
            "Enter a number: 25\n",
            "This is an odd number.\n"
          ]
        }
      ]
    }
  ]
}