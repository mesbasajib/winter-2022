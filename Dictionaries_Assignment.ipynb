{
  "nbformat": 4,
  "nbformat_minor": 0,
  "metadata": {
    "colab": {
      "name": "Dictionaries Assignment.ipynb",
      "provenance": [],
      "collapsed_sections": [],
      "authorship_tag": "ABX9TyN0Jsihm2rjbazknaZ/W3V8",
      "include_colab_link": true
    },
    "kernelspec": {
      "name": "python3",
      "display_name": "Python 3"
    },
    "language_info": {
      "name": "python"
    }
  },
  "cells": [
    {
      "cell_type": "markdown",
      "metadata": {
        "id": "view-in-github",
        "colab_type": "text"
      },
      "source": [
        "<a href=\"https://colab.research.google.com/github/mesbasajib/winter-2022/blob/main/Dictionaries_Assignment.ipynb\" target=\"_parent\"><img src=\"https://colab.research.google.com/assets/colab-badge.svg\" alt=\"Open In Colab\"/></a>"
      ]
    },
    {
      "cell_type": "markdown",
      "source": [
        "Dictionaries"
      ],
      "metadata": {
        "id": "F77hHpWX1KUZ"
      }
    },
    {
      "cell_type": "code",
      "source": [
        "# Create a simple dictionary that stores 2 variables\n",
        "\n",
        "customer_1 = {'first_name' : 'Alex', 'last_name' : 'King'}"
      ],
      "metadata": {
        "id": "XQWdcTvz1neC"
      },
      "execution_count": null,
      "outputs": []
    },
    {
      "cell_type": "code",
      "source": [
        "# Print out those variables stored in your previous dictionary\n",
        "\n",
        "print(customer_1['first_name'])\n",
        "print(customer_1['last_name'])\n"
      ],
      "metadata": {
        "colab": {
          "base_uri": "https://localhost:8080/"
        },
        "id": "55ZItmBVg_4T",
        "outputId": "3a555adc-1719-4a25-89fb-29e3a100e4b5"
      },
      "execution_count": null,
      "outputs": [
        {
          "output_type": "stream",
          "name": "stdout",
          "text": [
            "Alex\n",
            "King\n"
          ]
        }
      ]
    },
    {
      "cell_type": "code",
      "source": [
        "# Add a message to those variables on printing\n",
        "#customer_name = customer_1['first_name'] + ' ' + customer_1['last_name']\n",
        "#print('Hello, ' + customer_name +'!')\n",
        "\n",
        "customer_1 = {'first_name' : 'Alex', 'last_name' : 'King'}\n",
        "m = customer_1['first_name'] + ' ' + customer_1['last_name']\n",
        "print('My customer name is ' + m)"
      ],
      "metadata": {
        "colab": {
          "base_uri": "https://localhost:8080/"
        },
        "id": "UsBIHkJ-8FrG",
        "outputId": "978594d8-d887-4896-9792-08897254278b"
      },
      "execution_count": null,
      "outputs": [
        {
          "output_type": "stream",
          "name": "stdout",
          "text": [
            "My customer name is Alex King\n"
          ]
        }
      ]
    },
    {
      "cell_type": "code",
      "source": [
        "# Create a dictionary that holds 2 key: value pairs\n",
        "# Look through your dictionary and print each pair\n",
        "\n",
        "product = {'phone' : 'iPhone', 'manufacterer' : 'Apple'}\n",
        "#print(product.items())\n",
        "for x,y in product.items():\n",
        "  print(f\"{x} is {y}\")"
      ],
      "metadata": {
        "id": "s6LElkMB-pV1",
        "colab": {
          "base_uri": "https://localhost:8080/"
        },
        "outputId": "371dd41c-2e42-4185-bf24-c033d56196ff"
      },
      "execution_count": null,
      "outputs": [
        {
          "output_type": "stream",
          "name": "stdout",
          "text": [
            "phone is iPhone\n",
            "manufacterer is Apple\n"
          ]
        }
      ]
    },
    {
      "cell_type": "code",
      "source": [
        "# Create a nested dictionary containing three dictionaries\n",
        "# Loop through the dictionaries and print a message for each.\n",
        "anything (favorite pets, travel locations, etc.)\n",
        "a. Loop through the dictionaries and print a message for each.\n",
        "Dict = {'City1': {'New York' : {'hotel_name': 'Hotel Edison'}},\n",
        "        'City2': {'Washington DC' : {'hotel_name': 'Hotel Washington'}},\n",
        "        'City3': {'San Francisco' : {'hotel_name': 'Handlery Union Square Hotel'}}}\n",
        "for x,y in Dict.items():\n",
        "  print (x + ' is ' + str(y)) "
      ],
      "metadata": {
        "colab": {
          "base_uri": "https://localhost:8080/"
        },
        "id": "EAawGKcG3HK1",
        "outputId": "5166e70a-b689-4dfe-ba15-13bffc55b996"
      },
      "execution_count": null,
      "outputs": [
        {
          "output_type": "stream",
          "name": "stdout",
          "text": [
            "City1 is {'New York': {'hotel_name': 'Hotel Edison'}}\n",
            "City2 is {'Washington DC': {'hotel_name': 'Hotel Washington'}}\n",
            "City3 is {'San Francisco': {'hotel_name': 'Handlery Union Square Hotel'}}\n"
          ]
        }
      ]
    }
  ]
}