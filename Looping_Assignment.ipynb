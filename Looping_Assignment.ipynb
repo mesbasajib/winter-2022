{
  "nbformat": 4,
  "nbformat_minor": 0,
  "metadata": {
    "colab": {
      "name": "Looping Assignment.ipynb",
      "provenance": [],
      "collapsed_sections": [],
      "authorship_tag": "ABX9TyMn6CoFXuTF+UYYN8aqQq4t",
      "include_colab_link": true
    },
    "kernelspec": {
      "name": "python3",
      "display_name": "Python 3"
    },
    "language_info": {
      "name": "python"
    }
  },
  "cells": [
    {
      "cell_type": "markdown",
      "metadata": {
        "id": "view-in-github",
        "colab_type": "text"
      },
      "source": [
        "<a href=\"https://colab.research.google.com/github/mesbasajib/winter-2022/blob/main/Looping_Assignment.ipynb\" target=\"_parent\"><img src=\"https://colab.research.google.com/assets/colab-badge.svg\" alt=\"Open In Colab\"/></a>"
      ]
    },
    {
      "cell_type": "markdown",
      "source": [
        "Looping Question"
      ],
      "metadata": {
        "id": "VtTGBvTMg_S0"
      }
    },
    {
      "cell_type": "code",
      "execution_count": null,
      "metadata": {
        "id": "TS4SCL2XbRJL"
      },
      "outputs": [],
      "source": [
        "# Creating a list that five data variables\n",
        "\n",
        "name = {\"john\", \"jack\", \"smith\", \"josh\", \"nike\"}"
      ]
    },
    {
      "cell_type": "code",
      "source": [
        "# Print out variable by using a for loop\n",
        "\n",
        "for x in name :\n",
        "  print(x)"
      ],
      "metadata": {
        "colab": {
          "base_uri": "https://localhost:8080/"
        },
        "id": "6fY40N7CcvLk",
        "outputId": "0e52abdf-7ac1-42f9-8ee8-43f6a86432ef"
      },
      "execution_count": null,
      "outputs": [
        {
          "output_type": "stream",
          "name": "stdout",
          "text": [
            "john\n",
            "jack\n",
            "nike\n",
            "smith\n",
            "josh\n"
          ]
        }
      ]
    },
    {
      "cell_type": "code",
      "source": [
        "# Modify your for loop to add a message to your for loop\n",
        "\n",
        "for x in name:\n",
        "  print('My friends are ' + x)"
      ],
      "metadata": {
        "colab": {
          "base_uri": "https://localhost:8080/"
        },
        "id": "htZ91v-0h5_L",
        "outputId": "e636d61e-cc74-4293-8adf-0b94366438a1"
      },
      "execution_count": null,
      "outputs": [
        {
          "output_type": "stream",
          "name": "stdout",
          "text": [
            "My friends are john\n",
            "My friends are jack\n",
            "My friends are nike\n",
            "My friends are smith\n",
            "My friends are josh\n"
          ]
        }
      ]
    },
    {
      "cell_type": "code",
      "source": [
        "# Use a for loop to print even numbers from 1-20\n",
        "\n",
        "for x in range(1,20):\n",
        "  if x % 2 == 0:\n",
        "    print(x)"
      ],
      "metadata": {
        "colab": {
          "base_uri": "https://localhost:8080/"
        },
        "id": "iXFcgl6kemUq",
        "outputId": "3bc06970-8202-4ff3-975b-103b5ecdb92f"
      },
      "execution_count": null,
      "outputs": [
        {
          "output_type": "stream",
          "name": "stdout",
          "text": [
            "2\n",
            "4\n",
            "6\n",
            "8\n",
            "10\n",
            "12\n",
            "14\n",
            "16\n",
            "18\n"
          ]
        }
      ]
    },
    {
      "cell_type": "code",
      "source": [
        "# Sort your list in alphabetic order\n",
        "\n",
        "name = [\"john\", \"jack\", \"smith\", \"josh\", \"nike\"]\n",
        " # name.sort()\n",
        "print(sorted(name))"
      ],
      "metadata": {
        "colab": {
          "base_uri": "https://localhost:8080/"
        },
        "id": "AkeZpxeekufh",
        "outputId": "c131e07a-248c-40d4-c39c-9a9add88ae1e"
      },
      "execution_count": null,
      "outputs": [
        {
          "output_type": "stream",
          "name": "stdout",
          "text": [
            "['jack', 'john', 'josh', 'nike', 'smith']\n"
          ]
        }
      ]
    },
    {
      "cell_type": "code",
      "source": [
        "# Print out the first three elements of your list\n",
        "\n",
        "name = [\"john\", \"jack\", \"smith\", \"josh\", \"nike\"]\n",
        "print (name[:3])"
      ],
      "metadata": {
        "id": "5Zmg11nLE9r5",
        "colab": {
          "base_uri": "https://localhost:8080/"
        },
        "outputId": "0953605c-7e3f-4404-cfbb-207e072729f7"
      },
      "execution_count": null,
      "outputs": [
        {
          "output_type": "stream",
          "name": "stdout",
          "text": [
            "['john', 'jack', 'smith']\n"
          ]
        }
      ]
    },
    {
      "cell_type": "code",
      "source": [
        "# Create a loop to print the last 2 elements of your list\n",
        "\n",
        "name = [\"john\", \"jack\", \"smith\", \"josh\", \"nike\"]\n",
        "for x in name[-2:]:\n",
        "   print(x)"
      ],
      "metadata": {
        "colab": {
          "base_uri": "https://localhost:8080/"
        },
        "id": "OCzkVl2go-sO",
        "outputId": "aa4bc107-d43a-4304-8837-9e139f45a782"
      },
      "execution_count": null,
      "outputs": [
        {
          "output_type": "stream",
          "name": "stdout",
          "text": [
            "josh\n",
            "nike\n"
          ]
        }
      ]
    },
    {
      "cell_type": "code",
      "source": [
        ""
      ],
      "metadata": {
        "id": "VRa1kRCny6Nq"
      },
      "execution_count": null,
      "outputs": []
    }
  ]
}