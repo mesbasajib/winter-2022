{
  "nbformat": 4,
  "nbformat_minor": 0,
  "metadata": {
    "colab": {
      "name": "Day 3 Collection Data Types- Dictionaries.ipynb",
      "provenance": [],
      "authorship_tag": "ABX9TyMJIY+s5DtKzdDW+nH9Xtya",
      "include_colab_link": true
    },
    "kernelspec": {
      "name": "python3",
      "display_name": "Python 3"
    },
    "language_info": {
      "name": "python"
    }
  },
  "cells": [
    {
      "cell_type": "markdown",
      "metadata": {
        "id": "view-in-github",
        "colab_type": "text"
      },
      "source": [
        "<a href=\"https://colab.research.google.com/github/mesbasajib/winter-2022/blob/main/Day_3_Collection_Data_Types_Dictionaries.ipynb\" target=\"_parent\"><img src=\"https://colab.research.google.com/assets/colab-badge.svg\" alt=\"Open In Colab\"/></a>"
      ]
    },
    {
      "cell_type": "code",
      "execution_count": null,
      "metadata": {
        "id": "zxjrPOQ2tJiZ"
      },
      "outputs": [],
      "source": [
        ""
      ]
    }
  ]
}