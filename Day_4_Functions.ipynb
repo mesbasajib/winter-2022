{
  "nbformat": 4,
  "nbformat_minor": 0,
  "metadata": {
    "colab": {
      "name": "Day 4 Functions.ipynb",
      "provenance": [],
      "collapsed_sections": [],
      "authorship_tag": "ABX9TyMiZ/nmnt5/bIfR2qkHHZnn",
      "include_colab_link": true
    },
    "kernelspec": {
      "name": "python3",
      "display_name": "Python 3"
    },
    "language_info": {
      "name": "python"
    }
  },
  "cells": [
    {
      "cell_type": "markdown",
      "metadata": {
        "id": "view-in-github",
        "colab_type": "text"
      },
      "source": [
        "<a href=\"https://colab.research.google.com/github/mesbasajib/winter-2022/blob/main/Day_4_Functions.ipynb\" target=\"_parent\"><img src=\"https://colab.research.google.com/assets/colab-badge.svg\" alt=\"Open In Colab\"/></a>"
      ]
    },
    {
      "cell_type": "markdown",
      "source": [
        "# Functions\n",
        "\n",
        "So what is a function?\n",
        "\n",
        "Formally, a function is a useful device that groups together a set of statements so they can be run more than once. They can also let us specify parameters that can serve as inputs to the functions.\n",
        "\n",
        "On a more fundamental level, functions allow us to not have to repeatedly write the same code again and again. If you remember back to the lessons on strings and lists, remember that we used a function len() to get the length of a string. Since checking the length of a sequence is a common task you would want to write a function that can do this repeatedly at command.\n",
        "\n",
        "Functions will be one of most basic levels of reusing code in Python, and it will also allow us to start thinking of program design (we will dive much deeper into the ideas of design when we learn about Object Oriented Programming)."
      ],
      "metadata": {
        "id": "OG5w-UenzZUR"
      }
    },
    {
      "cell_type": "markdown",
      "source": [
        "# Def Statements\n",
        "\n",
        "Let's see how to build out a function's syntex in Python. It has the following form:"
      ],
      "metadata": {
        "id": "YQdkFnbWzqQH"
      }
    },
    {
      "cell_type": "code",
      "source": [
        "def name_of_function(arg1,arg2):\n",
        "    '''\n",
        "    This is where the function's Document String (doc-string) goes\n",
        "    '''\n",
        "    # Do stuff here\n",
        "    #return desired result"
      ],
      "metadata": {
        "id": "kRFkNTgX06hu"
      },
      "execution_count": 2,
      "outputs": []
    },
    {
      "cell_type": "code",
      "source": [
        "def greeting():\n",
        "  \"\"\"\n",
        "  Author: who did this function.\n",
        "  Input: What argiumrents the function takes.\n",
        "  Output: This function displays a greeting\n",
        "  \"\"\"\n",
        "  print('Hollo World!')"
      ],
      "metadata": {
        "id": "y-OqHIUu4mmn"
      },
      "execution_count": 5,
      "outputs": []
    },
    {
      "cell_type": "code",
      "source": [
        "greeting()"
      ],
      "metadata": {
        "colab": {
          "base_uri": "https://localhost:8080/"
        },
        "id": "Sib7V7ys4-Pn",
        "outputId": "6b9edfe1-627a-4742-852c-363dd0812c9f"
      },
      "execution_count": 6,
      "outputs": [
        {
          "output_type": "stream",
          "name": "stdout",
          "text": [
            "Hollo World!\n"
          ]
        }
      ]
    },
    {
      "cell_type": "code",
      "source": [
        "def greeting():\n",
        "  name = input()"
      ],
      "metadata": {
        "id": "BuHVkCfL5Ct_"
      },
      "execution_count": 7,
      "outputs": []
    },
    {
      "cell_type": "code",
      "source": [
        "def add_num(num1,num2):\n",
        "    return num1+num2"
      ],
      "metadata": {
        "id": "hr27GkjV_XB9"
      },
      "execution_count": 11,
      "outputs": []
    },
    {
      "cell_type": "code",
      "source": [
        "def sub_num(num1,num2):\n",
        "    return num1-num2"
      ],
      "metadata": {
        "id": "Bl76BgTV9aXh"
      },
      "execution_count": 35,
      "outputs": []
    },
    {
      "cell_type": "code",
      "source": [
        "sub_num(9,4)"
      ],
      "metadata": {
        "colab": {
          "base_uri": "https://localhost:8080/"
        },
        "id": "OfjHWzb49mWQ",
        "outputId": "7d52d107-1d2f-4813-e7c2-9a82427a4646"
      },
      "execution_count": 10,
      "outputs": [
        {
          "output_type": "execute_result",
          "data": {
            "text/plain": [
              "5"
            ]
          },
          "metadata": {},
          "execution_count": 10
        }
      ]
    },
    {
      "cell_type": "code",
      "source": [
        "#num_1 = input('please entur your first number :')\n",
        "#num_2 = input('please entur your second number :')\n",
        "#func = input('what would you like to do with these numbers?\\n add (A), subtract (S), Multiply (M), Divide (D), Exponent (E), Remainder (R), Floor (F): \\n' )\n",
        "\n",
        "def add_num(num1,num2):\n",
        "    return num1+num2\n",
        "def sub_num(num1,num2):\n",
        "    return num1-num2\n",
        "def multiply_num(num1,num2):\n",
        "    return num1*num2\n",
        "def divide_num(num1,num2):\n",
        "    return num1/num2\n"
      ],
      "metadata": {
        "id": "Wxc7gMak9ySY"
      },
      "execution_count": 14,
      "outputs": []
    },
    {
      "cell_type": "code",
      "source": [
        "add_num\n",
        "sub_num\n"
      ],
      "metadata": {
        "colab": {
          "base_uri": "https://localhost:8080/"
        },
        "id": "5aVa7L2KE4uD",
        "outputId": "2d3c561f-0e1f-4eda-aae3-98672b865ea3"
      },
      "execution_count": 15,
      "outputs": [
        {
          "output_type": "execute_result",
          "data": {
            "text/plain": [
              "<function __main__.sub_num>"
            ]
          },
          "metadata": {},
          "execution_count": 15
        }
      ]
    },
    {
      "cell_type": "code",
      "source": [
        "#Defining the functions\n",
        "def add(num1, num2):\n",
        "    return num1 + num2\n",
        "def subtract(num1, num2):\n",
        "    return num1 - num2\n",
        "def multiply(num1, num2):\n",
        "    return num1 * num2\n",
        "def divide(num1, num2):\n",
        "    return num1 / num2\n",
        "#Options \n",
        "print(\"Pick 1, fool.\")\n",
        "print(\"1. Add\")\n",
        "print(\"2. Subtract\")\n",
        "print(\"3. Multiply\")\n",
        "print(\"4. Divide\")\n",
        "print(\"5. Exponent\")\n",
        "#Input time\n",
        "while True:\n",
        "  option = input(\"Enter choice(1/2/3/4/5): \")\n",
        "  print('hahaaa good choice, my man! just like old times!')\n",
        "  if option in ('1', '2', '3', '4','5'):\n",
        "    num1 = float(input(\"What number? \"))\n",
        "    num2 = float(input(\"With what? \"))\n",
        "    if option == '1':\n",
        "      print(num1, \"+\", num2, \"=\", add(num1, num2))\n",
        "    elif option == '2':\n",
        "            print(num1, \"-\", num2, \"=\", subtract(num1, num2))\n",
        "    elif option == '3':\n",
        "            print(num1, \"*\", num2, \"=\", multiply(num1, num2))\n",
        "    elif option == '4':\n",
        "            print(num1, \"/\", num2, \"=\", divide(num1, num2))\n",
        "    elif option == '5':\n",
        "            print(num1, \"^\", num2, \"=\", num1**num2)\n",
        "    break\n",
        "  else:\n",
        "        print(\"What are you doing?\")\n"
      ],
      "metadata": {
        "colab": {
          "base_uri": "https://localhost:8080/"
        },
        "id": "909KHMyHFlRR",
        "outputId": "eb86545f-4726-4656-e5b1-cd8fe3b92e12"
      },
      "execution_count": 37,
      "outputs": [
        {
          "output_type": "stream",
          "name": "stdout",
          "text": [
            "Pick 1, fool.\n",
            "1. Add\n",
            "2. Subtract\n",
            "3. Multiply\n",
            "4. Divide\n",
            "5. Exponent\n",
            "Enter choice(1/2/3/4/5): \n",
            "hahaaa good choice, my man! just like old times!\n",
            "What are you doing?\n",
            "Enter choice(1/2/3/4/5): 1\n",
            "hahaaa good choice, my man! just like old times!\n",
            "What number? 2\n",
            "With what? 2\n",
            "2.0 + 2.0 = 4.0\n"
          ]
        }
      ]
    },
    {
      "cell_type": "code",
      "source": [
        "# Program to check if a number is prime or not\n",
        "\n",
        "num = 29\n",
        "\n",
        "# To take input from the user\n",
        "#num = int(input(\"Enter a number: \"))\n",
        "\n",
        "# define a flag variable\n",
        "flag = False\n",
        "\n",
        "# prime numbers are greater than 1\n",
        "if num > 1:\n",
        "    # check for factors\n",
        "    for i in range(2, num):\n",
        "        if (num % i) == 0:\n",
        "            # if factor is found, set flag to True\n",
        "            flag = True\n",
        "            # break out of loop\n",
        "            break\n",
        "\n",
        "# check if flag is True\n",
        "if flag:\n",
        "    print(num, \"is not a prime number\")\n",
        "else:\n",
        "    print(num, \"is a prime number\")\n"
      ],
      "metadata": {
        "colab": {
          "base_uri": "https://localhost:8080/"
        },
        "id": "LS-3LrW1d4wy",
        "outputId": "a939f205-0cd7-4d18-da9f-e4fd782363b6"
      },
      "execution_count": 39,
      "outputs": [
        {
          "output_type": "stream",
          "name": "stdout",
          "text": [
            "29 is a prime number\n"
          ]
        }
      ]
    },
    {
      "cell_type": "code",
      "source": [
        "\n",
        "# Python program to check if\n",
        "# given number is prime or not\n",
        "  \n",
        "num = 11\n",
        "  \n",
        "# If given number is greater than 1\n",
        "if num > 1:\n",
        "  \n",
        "    # Iterate from 2 to n / 2\n",
        "    for i in range(2, int(num/2)+1):\n",
        "  \n",
        "        # If num is divisible by any number between\n",
        "        # 2 and n / 2, it is not prime\n",
        "        if (num % i) == 0:\n",
        "            print(num, \"is not a prime number\")\n",
        "            break\n",
        "    else:\n",
        "        print(num, \"is a prime number\")\n",
        "  \n",
        "else:\n",
        "    print(num, \"is not a prime number\")"
      ],
      "metadata": {
        "colab": {
          "base_uri": "https://localhost:8080/"
        },
        "id": "LIeD_PG2g3NF",
        "outputId": "230fa7fe-2d6c-4780-c3b2-2ac28cd9c746"
      },
      "execution_count": 41,
      "outputs": [
        {
          "output_type": "stream",
          "name": "stdout",
          "text": [
            "11 is a prime number\n"
          ]
        }
      ]
    },
    {
      "cell_type": "code",
      "source": [
        "num= int(input(\"Enter a number: \"))\n",
        "def primeCalc(num):\n",
        "  if num > 1:\n",
        "    if num % 1 == 0:\n",
        "      print(\"This is not a prime number.\")\n",
        "    else:\n",
        "      print(\"This is a prime number.\")\n",
        "  elif num<0:\n",
        "    print( \"This is not possible.\")\n",
        "  else:\n",
        "    print( \"This is a prime number.\")\n",
        "\n",
        "\n"
      ],
      "metadata": {
        "colab": {
          "base_uri": "https://localhost:8080/"
        },
        "id": "Q1IFpfG5lQ1N",
        "outputId": "18fb2984-0706-44ef-e56b-a3568b960b7e"
      },
      "execution_count": 47,
      "outputs": [
        {
          "name": "stdout",
          "output_type": "stream",
          "text": [
            "Enter a number: 11\n"
          ]
        }
      ]
    },
    {
      "cell_type": "code",
      "source": [
        "num = input(\"Enter a number: \")\n",
        "mod = num % 2\n",
        "if mod > 0:\n",
        "    print(\"You picked an odd number.\")\n",
        "else:\n",
        "    print(\"You picked an even number.\")\n"
      ],
      "metadata": {
        "id": "n_jN62OAlvdH"
      },
      "execution_count": null,
      "outputs": []
    },
    {
      "cell_type": "code",
      "source": [
        "num = int(input(\"give me a number to check: \"))\n",
        "check = int(input(\"give me a number to divide by: \"))\n",
        "\n",
        "if num % 4 == 0:\n",
        "    print(num, \"is a multiple of 4\")\n",
        "elif num % 2 == 0:\n",
        "    print(num, \"is an even number\")\n",
        "else:\n",
        "    print(num, \"is an odd number\")\n",
        "\n",
        "if num % check == 0:\n",
        "    print(num, \"divides evenly by\", check)\n",
        "else:\n",
        "    print(num, \"does not divide evenly by\", check)"
      ],
      "metadata": {
        "colab": {
          "base_uri": "https://localhost:8080/"
        },
        "id": "OOjHhjreujGR",
        "outputId": "d4f2df2c-982b-4dad-d594-20552484f0c3"
      },
      "execution_count": 50,
      "outputs": [
        {
          "output_type": "stream",
          "name": "stdout",
          "text": [
            "give me a number to check: 10\n",
            "give me a number to divide by: 5\n",
            "10 is an even number\n",
            "10 divides evenly by 5\n"
          ]
        }
      ]
    },
    {
      "cell_type": "code",
      "source": [
        "num = int(input(\"Enter a number: \"))\n",
        "mod = num % 2\n",
        "if mod > 0:\n",
        "    print(\"This is an odd number.\")\n",
        "else:\n",
        "    print(\"This is an even number.\")"
      ],
      "metadata": {
        "colab": {
          "base_uri": "https://localhost:8080/"
        },
        "id": "3idyJ1ERutAY",
        "outputId": "2a6b7d86-8ac2-4f05-c219-d18a36374232"
      },
      "execution_count": 55,
      "outputs": [
        {
          "output_type": "stream",
          "name": "stdout",
          "text": [
            "Enter a number: 6\n",
            "This is an even number.\n"
          ]
        }
      ]
    },
    {
      "cell_type": "code",
      "source": [
        ""
      ],
      "metadata": {
        "id": "wMSEcOE2v99g"
      },
      "execution_count": null,
      "outputs": []
    }
  ]
}